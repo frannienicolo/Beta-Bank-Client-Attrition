{
 "cells": [
  {
   "cell_type": "markdown",
   "metadata": {},
   "source": [
    "# Sprint 8: Predicting Beta Bank Customer Attrition"
   ]
  },
  {
   "cell_type": "markdown",
   "metadata": {},
   "source": [
    "## Prompt"
   ]
  },
  {
   "cell_type": "markdown",
   "metadata": {},
   "source": [
    "Beta Bank customers are leaving: little by little, chipping away every month. The bankers figured out it’s cheaper to save the existing customers rather than to attract new ones.\n",
    "\n",
    "We need to predict whether a customer will leave the bank soon. You have the data on clients’ past behavior and termination of contracts with the bank.\n",
    "\n",
    "Build a model with the maximum possible F1 score. To pass the project, you need an F1 score of at least 0.59. Check the F1 for the test set.\n",
    "\n",
    "Additionally, measure the AUC-ROC metric and compare it with the F1."
   ]
  },
  {
   "cell_type": "markdown",
   "metadata": {},
   "source": [
    "## Introduction"
   ]
  },
  {
   "cell_type": "markdown",
   "metadata": {},
   "source": [
    "For this project I will be using the dataset 'Churn' which contains information about Beta Bank clients, including whether or not they are still with the company. Other features include: \n",
    "\n",
    "RowNumber — data string index\n",
    "\n",
    "CustomerId — unique customer identifier\n",
    "\n",
    "Surname — surname\n",
    "\n",
    "CreditScore — credit score\n",
    "\n",
    "Geography — country of residence\n",
    "\n",
    "Gender — gender\n",
    "\n",
    "Age — age\n",
    "\n",
    "Tenure — period of maturation for a customer’s fixed deposit (years)\n",
    "\n",
    "Balance — account balance\n",
    "\n",
    "NumOfProducts — number of banking products used by the customer\n",
    "\n",
    "HasCrCard — customer has a credit card\n",
    "\n",
    "IsActiveMember — customer’s activeness\n",
    "\n",
    "EstimatedSalary — estimated salary\n",
    "\n",
    "The goal of this project is to create a model that will predict whether or not Beta Bank customers will leave or stay with the bank based on the information available in the dataset mentioned previously.\n",
    "\n",
    "I will begin by preparing the data: checking for missing/duplicate data as well as encoding features and deleting abundant features as they could confuse the models and lead to inaccuracy.\n",
    "\n",
    "Next, I will split the data and train the data without taking into account imbalance. Then, I will fix the imbalance and train the data once again. Finally, I will upsample and downsample the data and train again in order to find the model with the highest F1 Score.\n",
    "\n",
    "I will conclude by testing the final model and offering my findings."
   ]
  },
  {
   "cell_type": "markdown",
   "metadata": {},
   "source": [
    "##  Uploading and preparing data"
   ]
  },
  {
   "cell_type": "code",
   "execution_count": 1,
   "metadata": {},
   "outputs": [],
   "source": [
    "import pandas as pd\n",
    "from sklearn.model_selection import train_test_split\n",
    "from sklearn.preprocessing import StandardScaler\n",
    "from sklearn.tree import DecisionTreeClassifier\n",
    "from sklearn.ensemble import RandomForestClassifier\n",
    "from sklearn.linear_model import LogisticRegression\n",
    "from sklearn.metrics import f1_score, roc_auc_score\n",
    "from sklearn.utils import shuffle\n",
    "from matplotlib import pyplot as plt"
   ]
  },
  {
   "cell_type": "markdown",
   "metadata": {},
   "source": [
    "importing necessary libraries"
   ]
  },
  {
   "cell_type": "code",
   "execution_count": 2,
   "metadata": {},
   "outputs": [],
   "source": [
    "churn = pd.read_csv('/datasets/Churn.csv')"
   ]
  },
  {
   "cell_type": "markdown",
   "metadata": {},
   "source": [
    "### Examining the data"
   ]
  },
  {
   "cell_type": "code",
   "execution_count": 3,
   "metadata": {
    "scrolled": true
   },
   "outputs": [
    {
     "name": "stdout",
     "output_type": "stream",
     "text": [
      "<class 'pandas.core.frame.DataFrame'>\n",
      "RangeIndex: 10000 entries, 0 to 9999\n",
      "Data columns (total 14 columns):\n",
      " #   Column           Non-Null Count  Dtype  \n",
      "---  ------           --------------  -----  \n",
      " 0   RowNumber        10000 non-null  int64  \n",
      " 1   CustomerId       10000 non-null  int64  \n",
      " 2   Surname          10000 non-null  object \n",
      " 3   CreditScore      10000 non-null  int64  \n",
      " 4   Geography        10000 non-null  object \n",
      " 5   Gender           10000 non-null  object \n",
      " 6   Age              10000 non-null  int64  \n",
      " 7   Tenure           9091 non-null   float64\n",
      " 8   Balance          10000 non-null  float64\n",
      " 9   NumOfProducts    10000 non-null  int64  \n",
      " 10  HasCrCard        10000 non-null  int64  \n",
      " 11  IsActiveMember   10000 non-null  int64  \n",
      " 12  EstimatedSalary  10000 non-null  float64\n",
      " 13  Exited           10000 non-null  int64  \n",
      "dtypes: float64(3), int64(8), object(3)\n",
      "memory usage: 1.1+ MB\n"
     ]
    }
   ],
   "source": [
    "churn.info()"
   ]
  },
  {
   "cell_type": "code",
   "execution_count": 4,
   "metadata": {
    "scrolled": false
   },
   "outputs": [
    {
     "data": {
      "text/html": [
       "<div>\n",
       "<style scoped>\n",
       "    .dataframe tbody tr th:only-of-type {\n",
       "        vertical-align: middle;\n",
       "    }\n",
       "\n",
       "    .dataframe tbody tr th {\n",
       "        vertical-align: top;\n",
       "    }\n",
       "\n",
       "    .dataframe thead th {\n",
       "        text-align: right;\n",
       "    }\n",
       "</style>\n",
       "<table border=\"1\" class=\"dataframe\">\n",
       "  <thead>\n",
       "    <tr style=\"text-align: right;\">\n",
       "      <th></th>\n",
       "      <th>RowNumber</th>\n",
       "      <th>CustomerId</th>\n",
       "      <th>Surname</th>\n",
       "      <th>CreditScore</th>\n",
       "      <th>Geography</th>\n",
       "      <th>Gender</th>\n",
       "      <th>Age</th>\n",
       "      <th>Tenure</th>\n",
       "      <th>Balance</th>\n",
       "      <th>NumOfProducts</th>\n",
       "      <th>HasCrCard</th>\n",
       "      <th>IsActiveMember</th>\n",
       "      <th>EstimatedSalary</th>\n",
       "      <th>Exited</th>\n",
       "    </tr>\n",
       "  </thead>\n",
       "  <tbody>\n",
       "    <tr>\n",
       "      <th>0</th>\n",
       "      <td>1</td>\n",
       "      <td>15634602</td>\n",
       "      <td>Hargrave</td>\n",
       "      <td>619</td>\n",
       "      <td>France</td>\n",
       "      <td>Female</td>\n",
       "      <td>42</td>\n",
       "      <td>2.0</td>\n",
       "      <td>0.00</td>\n",
       "      <td>1</td>\n",
       "      <td>1</td>\n",
       "      <td>1</td>\n",
       "      <td>101348.88</td>\n",
       "      <td>1</td>\n",
       "    </tr>\n",
       "    <tr>\n",
       "      <th>1</th>\n",
       "      <td>2</td>\n",
       "      <td>15647311</td>\n",
       "      <td>Hill</td>\n",
       "      <td>608</td>\n",
       "      <td>Spain</td>\n",
       "      <td>Female</td>\n",
       "      <td>41</td>\n",
       "      <td>1.0</td>\n",
       "      <td>83807.86</td>\n",
       "      <td>1</td>\n",
       "      <td>0</td>\n",
       "      <td>1</td>\n",
       "      <td>112542.58</td>\n",
       "      <td>0</td>\n",
       "    </tr>\n",
       "    <tr>\n",
       "      <th>2</th>\n",
       "      <td>3</td>\n",
       "      <td>15619304</td>\n",
       "      <td>Onio</td>\n",
       "      <td>502</td>\n",
       "      <td>France</td>\n",
       "      <td>Female</td>\n",
       "      <td>42</td>\n",
       "      <td>8.0</td>\n",
       "      <td>159660.80</td>\n",
       "      <td>3</td>\n",
       "      <td>1</td>\n",
       "      <td>0</td>\n",
       "      <td>113931.57</td>\n",
       "      <td>1</td>\n",
       "    </tr>\n",
       "    <tr>\n",
       "      <th>3</th>\n",
       "      <td>4</td>\n",
       "      <td>15701354</td>\n",
       "      <td>Boni</td>\n",
       "      <td>699</td>\n",
       "      <td>France</td>\n",
       "      <td>Female</td>\n",
       "      <td>39</td>\n",
       "      <td>1.0</td>\n",
       "      <td>0.00</td>\n",
       "      <td>2</td>\n",
       "      <td>0</td>\n",
       "      <td>0</td>\n",
       "      <td>93826.63</td>\n",
       "      <td>0</td>\n",
       "    </tr>\n",
       "    <tr>\n",
       "      <th>4</th>\n",
       "      <td>5</td>\n",
       "      <td>15737888</td>\n",
       "      <td>Mitchell</td>\n",
       "      <td>850</td>\n",
       "      <td>Spain</td>\n",
       "      <td>Female</td>\n",
       "      <td>43</td>\n",
       "      <td>2.0</td>\n",
       "      <td>125510.82</td>\n",
       "      <td>1</td>\n",
       "      <td>1</td>\n",
       "      <td>1</td>\n",
       "      <td>79084.10</td>\n",
       "      <td>0</td>\n",
       "    </tr>\n",
       "    <tr>\n",
       "      <th>5</th>\n",
       "      <td>6</td>\n",
       "      <td>15574012</td>\n",
       "      <td>Chu</td>\n",
       "      <td>645</td>\n",
       "      <td>Spain</td>\n",
       "      <td>Male</td>\n",
       "      <td>44</td>\n",
       "      <td>8.0</td>\n",
       "      <td>113755.78</td>\n",
       "      <td>2</td>\n",
       "      <td>1</td>\n",
       "      <td>0</td>\n",
       "      <td>149756.71</td>\n",
       "      <td>1</td>\n",
       "    </tr>\n",
       "    <tr>\n",
       "      <th>6</th>\n",
       "      <td>7</td>\n",
       "      <td>15592531</td>\n",
       "      <td>Bartlett</td>\n",
       "      <td>822</td>\n",
       "      <td>France</td>\n",
       "      <td>Male</td>\n",
       "      <td>50</td>\n",
       "      <td>7.0</td>\n",
       "      <td>0.00</td>\n",
       "      <td>2</td>\n",
       "      <td>1</td>\n",
       "      <td>1</td>\n",
       "      <td>10062.80</td>\n",
       "      <td>0</td>\n",
       "    </tr>\n",
       "    <tr>\n",
       "      <th>7</th>\n",
       "      <td>8</td>\n",
       "      <td>15656148</td>\n",
       "      <td>Obinna</td>\n",
       "      <td>376</td>\n",
       "      <td>Germany</td>\n",
       "      <td>Female</td>\n",
       "      <td>29</td>\n",
       "      <td>4.0</td>\n",
       "      <td>115046.74</td>\n",
       "      <td>4</td>\n",
       "      <td>1</td>\n",
       "      <td>0</td>\n",
       "      <td>119346.88</td>\n",
       "      <td>1</td>\n",
       "    </tr>\n",
       "    <tr>\n",
       "      <th>8</th>\n",
       "      <td>9</td>\n",
       "      <td>15792365</td>\n",
       "      <td>He</td>\n",
       "      <td>501</td>\n",
       "      <td>France</td>\n",
       "      <td>Male</td>\n",
       "      <td>44</td>\n",
       "      <td>4.0</td>\n",
       "      <td>142051.07</td>\n",
       "      <td>2</td>\n",
       "      <td>0</td>\n",
       "      <td>1</td>\n",
       "      <td>74940.50</td>\n",
       "      <td>0</td>\n",
       "    </tr>\n",
       "    <tr>\n",
       "      <th>9</th>\n",
       "      <td>10</td>\n",
       "      <td>15592389</td>\n",
       "      <td>H?</td>\n",
       "      <td>684</td>\n",
       "      <td>France</td>\n",
       "      <td>Male</td>\n",
       "      <td>27</td>\n",
       "      <td>2.0</td>\n",
       "      <td>134603.88</td>\n",
       "      <td>1</td>\n",
       "      <td>1</td>\n",
       "      <td>1</td>\n",
       "      <td>71725.73</td>\n",
       "      <td>0</td>\n",
       "    </tr>\n",
       "  </tbody>\n",
       "</table>\n",
       "</div>"
      ],
      "text/plain": [
       "   RowNumber  CustomerId   Surname  CreditScore Geography  Gender  Age  \\\n",
       "0          1    15634602  Hargrave          619    France  Female   42   \n",
       "1          2    15647311      Hill          608     Spain  Female   41   \n",
       "2          3    15619304      Onio          502    France  Female   42   \n",
       "3          4    15701354      Boni          699    France  Female   39   \n",
       "4          5    15737888  Mitchell          850     Spain  Female   43   \n",
       "5          6    15574012       Chu          645     Spain    Male   44   \n",
       "6          7    15592531  Bartlett          822    France    Male   50   \n",
       "7          8    15656148    Obinna          376   Germany  Female   29   \n",
       "8          9    15792365        He          501    France    Male   44   \n",
       "9         10    15592389        H?          684    France    Male   27   \n",
       "\n",
       "   Tenure    Balance  NumOfProducts  HasCrCard  IsActiveMember  \\\n",
       "0     2.0       0.00              1          1               1   \n",
       "1     1.0   83807.86              1          0               1   \n",
       "2     8.0  159660.80              3          1               0   \n",
       "3     1.0       0.00              2          0               0   \n",
       "4     2.0  125510.82              1          1               1   \n",
       "5     8.0  113755.78              2          1               0   \n",
       "6     7.0       0.00              2          1               1   \n",
       "7     4.0  115046.74              4          1               0   \n",
       "8     4.0  142051.07              2          0               1   \n",
       "9     2.0  134603.88              1          1               1   \n",
       "\n",
       "   EstimatedSalary  Exited  \n",
       "0        101348.88       1  \n",
       "1        112542.58       0  \n",
       "2        113931.57       1  \n",
       "3         93826.63       0  \n",
       "4         79084.10       0  \n",
       "5        149756.71       1  \n",
       "6         10062.80       0  \n",
       "7        119346.88       1  \n",
       "8         74940.50       0  \n",
       "9         71725.73       0  "
      ]
     },
     "execution_count": 4,
     "metadata": {},
     "output_type": "execute_result"
    }
   ],
   "source": [
    "churn.head(10)"
   ]
  },
  {
   "cell_type": "markdown",
   "metadata": {},
   "source": [
    "After examining data types and getting a general look at the data, data types all seem appropriate, however I will change feature titles to make it user friendly and easier to read. Furthermore, columns 'RowNumber', 'CustomerId', and 'Surname' are all irrelevant to the model and keeping them runs the risk of an inaccurate model, therefore I will remove them. Lastly, I can see in info() that the only column with missing values is 'tenure'."
   ]
  },
  {
   "cell_type": "markdown",
   "metadata": {},
   "source": [
    "### Dropping irrelevant features "
   ]
  },
  {
   "cell_type": "code",
   "execution_count": 5,
   "metadata": {
    "scrolled": true
   },
   "outputs": [],
   "source": [
    "churn = churn.drop(columns=['RowNumber','CustomerId','Surname'])"
   ]
  },
  {
   "cell_type": "markdown",
   "metadata": {},
   "source": [
    "Removed irrelevant columns. This will make it easier for the machine to notice patterns since there won't be an irrelevant column."
   ]
  },
  {
   "cell_type": "code",
   "execution_count": 6,
   "metadata": {},
   "outputs": [],
   "source": [
    "churn = churn.rename(\n",
    "columns={\n",
    "    'CreditScore' : 'credit_score',\n",
    "    'Geography' : 'geography',\n",
    "    'Gender' : 'gender',\n",
    "    'Age' : 'age',\n",
    "    'Tenure' : 'tenure',\n",
    "    'Balance' : 'balance',\n",
    "    'NumOfProducts' : 'num_of_products',\n",
    "    'HasCrCard' : 'has_cr_card',\n",
    "    'IsActiveMember' : 'is_active_member',\n",
    "    'EstimatedSalary' : 'est_salary',\n",
    "    'Exited' : 'exited'\n",
    "})"
   ]
  },
  {
   "cell_type": "code",
   "execution_count": 7,
   "metadata": {
    "scrolled": false
   },
   "outputs": [
    {
     "data": {
      "text/html": [
       "<div>\n",
       "<style scoped>\n",
       "    .dataframe tbody tr th:only-of-type {\n",
       "        vertical-align: middle;\n",
       "    }\n",
       "\n",
       "    .dataframe tbody tr th {\n",
       "        vertical-align: top;\n",
       "    }\n",
       "\n",
       "    .dataframe thead th {\n",
       "        text-align: right;\n",
       "    }\n",
       "</style>\n",
       "<table border=\"1\" class=\"dataframe\">\n",
       "  <thead>\n",
       "    <tr style=\"text-align: right;\">\n",
       "      <th></th>\n",
       "      <th>credit_score</th>\n",
       "      <th>geography</th>\n",
       "      <th>gender</th>\n",
       "      <th>age</th>\n",
       "      <th>tenure</th>\n",
       "      <th>balance</th>\n",
       "      <th>num_of_products</th>\n",
       "      <th>has_cr_card</th>\n",
       "      <th>is_active_member</th>\n",
       "      <th>est_salary</th>\n",
       "      <th>exited</th>\n",
       "    </tr>\n",
       "  </thead>\n",
       "  <tbody>\n",
       "    <tr>\n",
       "      <th>0</th>\n",
       "      <td>619</td>\n",
       "      <td>France</td>\n",
       "      <td>Female</td>\n",
       "      <td>42</td>\n",
       "      <td>2.0</td>\n",
       "      <td>0.00</td>\n",
       "      <td>1</td>\n",
       "      <td>1</td>\n",
       "      <td>1</td>\n",
       "      <td>101348.88</td>\n",
       "      <td>1</td>\n",
       "    </tr>\n",
       "    <tr>\n",
       "      <th>1</th>\n",
       "      <td>608</td>\n",
       "      <td>Spain</td>\n",
       "      <td>Female</td>\n",
       "      <td>41</td>\n",
       "      <td>1.0</td>\n",
       "      <td>83807.86</td>\n",
       "      <td>1</td>\n",
       "      <td>0</td>\n",
       "      <td>1</td>\n",
       "      <td>112542.58</td>\n",
       "      <td>0</td>\n",
       "    </tr>\n",
       "    <tr>\n",
       "      <th>2</th>\n",
       "      <td>502</td>\n",
       "      <td>France</td>\n",
       "      <td>Female</td>\n",
       "      <td>42</td>\n",
       "      <td>8.0</td>\n",
       "      <td>159660.80</td>\n",
       "      <td>3</td>\n",
       "      <td>1</td>\n",
       "      <td>0</td>\n",
       "      <td>113931.57</td>\n",
       "      <td>1</td>\n",
       "    </tr>\n",
       "    <tr>\n",
       "      <th>3</th>\n",
       "      <td>699</td>\n",
       "      <td>France</td>\n",
       "      <td>Female</td>\n",
       "      <td>39</td>\n",
       "      <td>1.0</td>\n",
       "      <td>0.00</td>\n",
       "      <td>2</td>\n",
       "      <td>0</td>\n",
       "      <td>0</td>\n",
       "      <td>93826.63</td>\n",
       "      <td>0</td>\n",
       "    </tr>\n",
       "    <tr>\n",
       "      <th>4</th>\n",
       "      <td>850</td>\n",
       "      <td>Spain</td>\n",
       "      <td>Female</td>\n",
       "      <td>43</td>\n",
       "      <td>2.0</td>\n",
       "      <td>125510.82</td>\n",
       "      <td>1</td>\n",
       "      <td>1</td>\n",
       "      <td>1</td>\n",
       "      <td>79084.10</td>\n",
       "      <td>0</td>\n",
       "    </tr>\n",
       "  </tbody>\n",
       "</table>\n",
       "</div>"
      ],
      "text/plain": [
       "   credit_score geography  gender  age  tenure    balance  num_of_products  \\\n",
       "0           619    France  Female   42     2.0       0.00                1   \n",
       "1           608     Spain  Female   41     1.0   83807.86                1   \n",
       "2           502    France  Female   42     8.0  159660.80                3   \n",
       "3           699    France  Female   39     1.0       0.00                2   \n",
       "4           850     Spain  Female   43     2.0  125510.82                1   \n",
       "\n",
       "   has_cr_card  is_active_member  est_salary  exited  \n",
       "0            1                 1   101348.88       1  \n",
       "1            0                 1   112542.58       0  \n",
       "2            1                 0   113931.57       1  \n",
       "3            0                 0    93826.63       0  \n",
       "4            1                 1    79084.10       0  "
      ]
     },
     "execution_count": 7,
     "metadata": {},
     "output_type": "execute_result"
    }
   ],
   "source": [
    "churn.head()"
   ]
  },
  {
   "cell_type": "markdown",
   "metadata": {},
   "source": [
    "ensured changes were made"
   ]
  },
  {
   "cell_type": "markdown",
   "metadata": {},
   "source": [
    "### Checking for duplicates"
   ]
  },
  {
   "cell_type": "code",
   "execution_count": 8,
   "metadata": {},
   "outputs": [
    {
     "data": {
      "text/plain": [
       "0"
      ]
     },
     "execution_count": 8,
     "metadata": {},
     "output_type": "execute_result"
    }
   ],
   "source": [
    "churn.duplicated().sum()"
   ]
  },
  {
   "cell_type": "markdown",
   "metadata": {},
   "source": [
    "checked for exact duplicates, none found"
   ]
  },
  {
   "cell_type": "markdown",
   "metadata": {},
   "source": [
    "### Taking care of missing values"
   ]
  },
  {
   "cell_type": "code",
   "execution_count": 9,
   "metadata": {
    "scrolled": false
   },
   "outputs": [
    {
     "data": {
      "text/plain": [
       "1.0     952\n",
       "2.0     950\n",
       "8.0     933\n",
       "3.0     928\n",
       "5.0     927\n",
       "7.0     925\n",
       "4.0     885\n",
       "9.0     882\n",
       "6.0     881\n",
       "10.0    446\n",
       "0.0     382\n",
       "Name: tenure, dtype: int64"
      ]
     },
     "execution_count": 9,
     "metadata": {},
     "output_type": "execute_result"
    }
   ],
   "source": [
    "churn['tenure'].value_counts()"
   ]
  },
  {
   "cell_type": "markdown",
   "metadata": {},
   "source": [
    "seeing that there are already 382 '0' values in this column, it would not be beneficial and would skew results to replace Nan values with '0'. Therefore, I will be replacing missing values with the median value of the tenure column."
   ]
  },
  {
   "cell_type": "code",
   "execution_count": 10,
   "metadata": {
    "scrolled": true
   },
   "outputs": [],
   "source": [
    "churn['tenure'] = churn['tenure'].fillna(value=churn['tenure'].median())"
   ]
  },
  {
   "cell_type": "code",
   "execution_count": 11,
   "metadata": {},
   "outputs": [
    {
     "name": "stdout",
     "output_type": "stream",
     "text": [
      "<class 'pandas.core.frame.DataFrame'>\n",
      "RangeIndex: 10000 entries, 0 to 9999\n",
      "Data columns (total 11 columns):\n",
      " #   Column            Non-Null Count  Dtype  \n",
      "---  ------            --------------  -----  \n",
      " 0   credit_score      10000 non-null  int64  \n",
      " 1   geography         10000 non-null  object \n",
      " 2   gender            10000 non-null  object \n",
      " 3   age               10000 non-null  int64  \n",
      " 4   tenure            10000 non-null  float64\n",
      " 5   balance           10000 non-null  float64\n",
      " 6   num_of_products   10000 non-null  int64  \n",
      " 7   has_cr_card       10000 non-null  int64  \n",
      " 8   is_active_member  10000 non-null  int64  \n",
      " 9   est_salary        10000 non-null  float64\n",
      " 10  exited            10000 non-null  int64  \n",
      "dtypes: float64(3), int64(6), object(2)\n",
      "memory usage: 859.5+ KB\n"
     ]
    }
   ],
   "source": [
    "churn.info()"
   ]
  },
  {
   "cell_type": "markdown",
   "metadata": {},
   "source": [
    "ensured missing values were replaced"
   ]
  },
  {
   "cell_type": "markdown",
   "metadata": {},
   "source": [
    "### Encoding categorical features"
   ]
  },
  {
   "cell_type": "code",
   "execution_count": 12,
   "metadata": {},
   "outputs": [],
   "source": [
    "churn = pd.get_dummies(churn, drop_first=True, columns=['geography','gender'])"
   ]
  },
  {
   "cell_type": "markdown",
   "metadata": {},
   "source": [
    "encoding categorical features to numerical to make the model run more efficiently"
   ]
  },
  {
   "cell_type": "code",
   "execution_count": 13,
   "metadata": {
    "scrolled": true
   },
   "outputs": [
    {
     "data": {
      "text/html": [
       "<div>\n",
       "<style scoped>\n",
       "    .dataframe tbody tr th:only-of-type {\n",
       "        vertical-align: middle;\n",
       "    }\n",
       "\n",
       "    .dataframe tbody tr th {\n",
       "        vertical-align: top;\n",
       "    }\n",
       "\n",
       "    .dataframe thead th {\n",
       "        text-align: right;\n",
       "    }\n",
       "</style>\n",
       "<table border=\"1\" class=\"dataframe\">\n",
       "  <thead>\n",
       "    <tr style=\"text-align: right;\">\n",
       "      <th></th>\n",
       "      <th>credit_score</th>\n",
       "      <th>age</th>\n",
       "      <th>tenure</th>\n",
       "      <th>balance</th>\n",
       "      <th>num_of_products</th>\n",
       "      <th>has_cr_card</th>\n",
       "      <th>is_active_member</th>\n",
       "      <th>est_salary</th>\n",
       "      <th>exited</th>\n",
       "      <th>geography_Germany</th>\n",
       "      <th>geography_Spain</th>\n",
       "      <th>gender_Male</th>\n",
       "    </tr>\n",
       "  </thead>\n",
       "  <tbody>\n",
       "    <tr>\n",
       "      <th>0</th>\n",
       "      <td>619</td>\n",
       "      <td>42</td>\n",
       "      <td>2.0</td>\n",
       "      <td>0.00</td>\n",
       "      <td>1</td>\n",
       "      <td>1</td>\n",
       "      <td>1</td>\n",
       "      <td>101348.88</td>\n",
       "      <td>1</td>\n",
       "      <td>0</td>\n",
       "      <td>0</td>\n",
       "      <td>0</td>\n",
       "    </tr>\n",
       "    <tr>\n",
       "      <th>1</th>\n",
       "      <td>608</td>\n",
       "      <td>41</td>\n",
       "      <td>1.0</td>\n",
       "      <td>83807.86</td>\n",
       "      <td>1</td>\n",
       "      <td>0</td>\n",
       "      <td>1</td>\n",
       "      <td>112542.58</td>\n",
       "      <td>0</td>\n",
       "      <td>0</td>\n",
       "      <td>1</td>\n",
       "      <td>0</td>\n",
       "    </tr>\n",
       "    <tr>\n",
       "      <th>2</th>\n",
       "      <td>502</td>\n",
       "      <td>42</td>\n",
       "      <td>8.0</td>\n",
       "      <td>159660.80</td>\n",
       "      <td>3</td>\n",
       "      <td>1</td>\n",
       "      <td>0</td>\n",
       "      <td>113931.57</td>\n",
       "      <td>1</td>\n",
       "      <td>0</td>\n",
       "      <td>0</td>\n",
       "      <td>0</td>\n",
       "    </tr>\n",
       "    <tr>\n",
       "      <th>3</th>\n",
       "      <td>699</td>\n",
       "      <td>39</td>\n",
       "      <td>1.0</td>\n",
       "      <td>0.00</td>\n",
       "      <td>2</td>\n",
       "      <td>0</td>\n",
       "      <td>0</td>\n",
       "      <td>93826.63</td>\n",
       "      <td>0</td>\n",
       "      <td>0</td>\n",
       "      <td>0</td>\n",
       "      <td>0</td>\n",
       "    </tr>\n",
       "    <tr>\n",
       "      <th>4</th>\n",
       "      <td>850</td>\n",
       "      <td>43</td>\n",
       "      <td>2.0</td>\n",
       "      <td>125510.82</td>\n",
       "      <td>1</td>\n",
       "      <td>1</td>\n",
       "      <td>1</td>\n",
       "      <td>79084.10</td>\n",
       "      <td>0</td>\n",
       "      <td>0</td>\n",
       "      <td>1</td>\n",
       "      <td>0</td>\n",
       "    </tr>\n",
       "  </tbody>\n",
       "</table>\n",
       "</div>"
      ],
      "text/plain": [
       "   credit_score  age  tenure    balance  num_of_products  has_cr_card  \\\n",
       "0           619   42     2.0       0.00                1            1   \n",
       "1           608   41     1.0   83807.86                1            0   \n",
       "2           502   42     8.0  159660.80                3            1   \n",
       "3           699   39     1.0       0.00                2            0   \n",
       "4           850   43     2.0  125510.82                1            1   \n",
       "\n",
       "   is_active_member  est_salary  exited  geography_Germany  geography_Spain  \\\n",
       "0                 1   101348.88       1                  0                0   \n",
       "1                 1   112542.58       0                  0                1   \n",
       "2                 0   113931.57       1                  0                0   \n",
       "3                 0    93826.63       0                  0                0   \n",
       "4                 1    79084.10       0                  0                1   \n",
       "\n",
       "   gender_Male  \n",
       "0            0  \n",
       "1            0  \n",
       "2            0  \n",
       "3            0  \n",
       "4            0  "
      ]
     },
     "execution_count": 13,
     "metadata": {},
     "output_type": "execute_result"
    }
   ],
   "source": [
    "churn.head()"
   ]
  },
  {
   "cell_type": "markdown",
   "metadata": {},
   "source": [
    "ensured necessary changes were made"
   ]
  },
  {
   "cell_type": "markdown",
   "metadata": {},
   "source": [
    "## EDA"
   ]
  },
  {
   "cell_type": "code",
   "execution_count": 14,
   "metadata": {},
   "outputs": [
    {
     "data": {
      "text/plain": [
       "<matplotlib.legend.Legend at 0x7fa06690d9a0>"
      ]
     },
     "execution_count": 14,
     "metadata": {},
     "output_type": "execute_result"
    },
    {
     "data": {
      "image/png": "[encoded data removed]",
      "text/plain": [
       "<Figure size 640x480 with 1 Axes>"
      ]
     },
     "metadata": {},
     "output_type": "display_data"
    }
   ],
   "source": [
    "churn['exited'].value_counts(normalize=True).plot(kind='bar', title='Client Retention at Beta Bank', xlabel = 'Exited', ylabel = 'Number of clients')\n",
    "plt.legend(['1 = exited', '0 = current client'])"
   ]
  },
  {
   "cell_type": "markdown",
   "metadata": {},
   "source": [
    "Bar graph shows that far more clients in the dataframe are currently still with Beta compared to those who have exited, indicating a class imbalance."
   ]
  },
  {
   "cell_type": "markdown",
   "metadata": {},
   "source": [
    "## Creating a model"
   ]
  },
  {
   "cell_type": "markdown",
   "metadata": {},
   "source": [
    "### Splitting the data"
   ]
  },
  {
   "cell_type": "code",
   "execution_count": 15,
   "metadata": {},
   "outputs": [],
   "source": [
    "train_valid, test = train_test_split(churn, test_size = .2, random_state=12345)\n",
    "train, valid = train_test_split(train_valid, test_size = .25, random_state=12345)"
   ]
  },
  {
   "cell_type": "code",
   "execution_count": 16,
   "metadata": {},
   "outputs": [],
   "source": [
    "features_train = train.drop(['exited'], axis=1)\n",
    "target_train = train['exited']\n",
    "features_valid = valid.drop(['exited'], axis=1)\n",
    "target_valid = valid['exited']\n",
    "features_test = test.drop(['exited'], axis=1)\n",
    "target_test = test['exited']"
   ]
  },
  {
   "cell_type": "code",
   "execution_count": 17,
   "metadata": {},
   "outputs": [
    {
     "name": "stdout",
     "output_type": "stream",
     "text": [
      "(6000, 11)\n",
      "(2000, 11)\n",
      "(2000, 11)\n"
     ]
    }
   ],
   "source": [
    "print(features_train.shape)\n",
    "print(features_valid.shape)\n",
    "print(features_test.shape)"
   ]
  },
  {
   "cell_type": "markdown",
   "metadata": {},
   "source": [
    "ensured splitting was done correctly"
   ]
  },
  {
   "cell_type": "markdown",
   "metadata": {},
   "source": [
    "### Scaling"
   ]
  },
  {
   "cell_type": "code",
   "execution_count": 18,
   "metadata": {},
   "outputs": [],
   "source": [
    "numeric = ['credit_score', 'age', 'tenure', 'balance','num_of_products', 'has_cr_card', 'is_active_member', 'est_salary']"
   ]
  },
  {
   "cell_type": "code",
   "execution_count": 19,
   "metadata": {},
   "outputs": [],
   "source": [
    "scaler = StandardScaler()\n",
    "features_train[numeric] = scaler.fit_transform(features_train[numeric])\n",
    "features_valid[numeric] = scaler.transform(features_valid[numeric])\n",
    "features_test[numeric] = scaler.transform(features_test[numeric])"
   ]
  },
  {
   "cell_type": "markdown",
   "metadata": {},
   "source": [
    "standardized data so that all features are weighted equally by model"
   ]
  },
  {
   "cell_type": "markdown",
   "metadata": {},
   "source": [
    "### Training the model without taking into account imbalance"
   ]
  },
  {
   "cell_type": "markdown",
   "metadata": {},
   "source": [
    "#### Decision Tree"
   ]
  },
  {
   "cell_type": "code",
   "execution_count": 20,
   "metadata": {},
   "outputs": [
    {
     "name": "stdout",
     "output_type": "stream",
     "text": [
      "max_depth = 1\n",
      " F1 = 0.0\n",
      " AUC-ROC = 0.5\n",
      "max_depth = 3\n",
      " F1 = 0.39382239382239387\n",
      " AUC-ROC = 0.6226659821114924\n",
      "max_depth = 5\n",
      " F1 = 0.5488372093023256\n",
      " AUC-ROC = 0.7024148054660566\n",
      "max_depth = 7\n",
      " F1 = 0.5583596214511041\n",
      " AUC-ROC = 0.7058330776848261\n",
      "max_depth = 9\n",
      " F1 = 0.5357142857142857\n",
      " AUC-ROC = 0.6987930741242914\n",
      "max_depth = 11\n",
      " F1 = 0.5131964809384164\n",
      " AUC-ROC = 0.6877379319333863\n",
      "max_depth = 13\n",
      " F1 = 0.49657064471879286\n",
      " AUC-ROC = 0.6826697333890727\n",
      "max_depth = 15\n",
      " F1 = 0.4993288590604027\n",
      " AUC-ROC = 0.6856453230628863\n",
      "max_depth = 17\n",
      " F1 = 0.4916773367477593\n",
      " AUC-ROC = 0.6839953967373422\n",
      "max_depth = 19\n",
      " F1 = 0.49748743718592964\n",
      " AUC-ROC = 0.6888712628294488\n"
     ]
    }
   ],
   "source": [
    "for depth in range(1, 20, 2):\n",
    "    model = DecisionTreeClassifier(random_state=12345, max_depth=depth)\n",
    "    \n",
    "    model.fit(features_train, target_train)\n",
    "    predicted_valid = model.predict(features_valid)\n",
    "    probabilities_valid = model.predict_proba(features_valid)[:,1]\n",
    "    \n",
    "    print('max_depth =', depth)\n",
    "    print(' F1 =', f1_score(target_valid, predicted_valid))\n",
    "    print(' AUC-ROC =', roc_auc_score(target_valid, predicted_valid))"
   ]
  },
  {
   "cell_type": "markdown",
   "metadata": {},
   "source": [
    "F1 score and AUC-ROC score grow and decline simultaneously with both reaching their peak at a max depth of 7, however, these scores are not high enough to indicate an accurate model. F1 score does not exceed .59."
   ]
  },
  {
   "cell_type": "markdown",
   "metadata": {},
   "source": [
    "#### Random Forest Classifier"
   ]
  },
  {
   "cell_type": "code",
   "execution_count": 21,
   "metadata": {},
   "outputs": [
    {
     "name": "stdout",
     "output_type": "stream",
     "text": [
      "n_estimators = 10\n",
      " F1 = 0.5197368421052632\n",
      " AUC-ROC = 0.6837116666322269\n",
      "n_estimators = 15\n",
      " F1 = 0.5522620904836194\n",
      " AUC-ROC = 0.7036578135456091\n",
      "n_estimators = 20\n",
      " F1 = 0.5369774919614148\n",
      " AUC-ROC = 0.6936668579394359\n",
      "n_estimators = 25\n",
      " F1 = 0.5394321766561514\n",
      " AUC-ROC = 0.6962959312943974\n",
      "n_estimators = 30\n",
      " F1 = 0.5451612903225806\n",
      " AUC-ROC = 0.6974674107760217\n",
      "n_estimators = 35\n",
      " F1 = 0.5656249999999999\n",
      " AUC-ROC = 0.7103266631591161\n",
      "n_estimators = 40\n",
      " F1 = 0.5564387917329093\n",
      " AUC-ROC = 0.7042077889874571\n",
      "n_estimators = 45\n",
      " F1 = 0.56875\n",
      " AUC-ROC = 0.711916187557521\n",
      "n_estimators = 50\n",
      " F1 = 0.554140127388535\n",
      " AUC-ROC = 0.7029290166089404\n",
      "n_estimators = 55\n",
      " F1 = 0.5606299212598425\n",
      " AUC-ROC = 0.7071118500633427\n",
      "n_estimators = 60\n",
      " F1 = 0.5530546623794211\n",
      " AUC-ROC = 0.7016144799314598\n",
      "n_estimators = 65\n",
      " F1 = 0.5646687697160884\n",
      " AUC-ROC = 0.7090121264816354\n",
      "n_estimators = 70\n",
      " F1 = 0.5559105431309904\n",
      " AUC-ROC = 0.7035505206487167\n",
      "n_estimators = 75\n",
      " F1 = 0.561014263074485\n",
      " AUC-ROC = 0.7067653337444904\n",
      "n_estimators = 80\n",
      " F1 = 0.5550239234449761\n",
      " AUC-ROC = 0.7032397686288285\n",
      "n_estimators = 85\n",
      " F1 = 0.5564387917329093\n",
      " AUC-ROC = 0.7042077889874571\n",
      "n_estimators = 90\n",
      " F1 = 0.5573248407643312\n",
      " AUC-ROC = 0.7045185410073452\n",
      "n_estimators = 95\n",
      " F1 = 0.5624012638230647\n",
      " AUC-ROC = 0.7077333541031189\n",
      "n_estimators = 100\n",
      " F1 = 0.5596184419713831\n",
      " AUC-ROC = 0.7057973133858619\n"
     ]
    }
   ],
   "source": [
    "for estim in range(10, 101, 5):\n",
    "    model = RandomForestClassifier(n_estimators=estim, random_state=12345)\n",
    "    \n",
    "    model.fit(features_train, target_train)\n",
    "    predicted_valid = model.predict(features_valid)\n",
    "    probabilities_valid = model.predict_proba(features_valid)[:,1]\n",
    "    \n",
    "    print('n_estimators =', estim)\n",
    "    print(' F1 =', f1_score(target_valid, predicted_valid))\n",
    "    print(' AUC-ROC =', roc_auc_score(target_valid, predicted_valid))"
   ]
  },
  {
   "cell_type": "markdown",
   "metadata": {},
   "source": [
    "Once again, F1 score and AUC-ROC score grow and decline simultaneously with both reaching their peak when n_estimators = 35, however, these scores are not high enough to indicate an accurate model. F1 score does not exceed .59."
   ]
  },
  {
   "cell_type": "markdown",
   "metadata": {},
   "source": [
    "#### Logistic Regression"
   ]
  },
  {
   "cell_type": "code",
   "execution_count": 22,
   "metadata": {},
   "outputs": [
    {
     "name": "stdout",
     "output_type": "stream",
     "text": [
      " F1 = 0.30131826741996237\n",
      " AUC-ROC = 0.5836566690880421\n"
     ]
    }
   ],
   "source": [
    "model =  LogisticRegression(random_state=12345, solver='liblinear')\n",
    "model.fit(features_train, target_train)\n",
    "\n",
    "predicted_valid = model.predict(features_valid)\n",
    "probabilities_valid = model.predict_proba(features_valid)[:,1]\n",
    "print(' F1 =', f1_score(target_valid, predicted_valid))\n",
    "print(' AUC-ROC =', roc_auc_score(target_valid, predicted_valid))"
   ]
  },
  {
   "cell_type": "markdown",
   "metadata": {},
   "source": [
    "Logistic Regression does not produce an accurate model."
   ]
  },
  {
   "cell_type": "markdown",
   "metadata": {},
   "source": [
    "## Fixing imbalance"
   ]
  },
  {
   "cell_type": "markdown",
   "metadata": {},
   "source": [
    "### Class weight adjustment"
   ]
  },
  {
   "cell_type": "markdown",
   "metadata": {},
   "source": [
    "#### Decision Tree"
   ]
  },
  {
   "cell_type": "code",
   "execution_count": 23,
   "metadata": {
    "scrolled": true
   },
   "outputs": [
    {
     "name": "stdout",
     "output_type": "stream",
     "text": [
      "max_depth = 1\n",
      " F1 = 0.4750733137829912\n",
      " AUC-ROC = 0.6898591522430575\n",
      "max_depth = 3\n",
      " F1 = 0.49761677788369874\n",
      " AUC-ROC = 0.7103910388972516\n",
      "max_depth = 5\n",
      " F1 = 0.5489078822412156\n",
      " AUC-ROC = 0.7536547139730321\n",
      "max_depth = 7\n",
      " F1 = 0.5535353535353534\n",
      " AUC-ROC = 0.7493892252499129\n",
      "max_depth = 9\n",
      " F1 = 0.5145631067961165\n",
      " AUC-ROC = 0.7226534248687451\n",
      "max_depth = 11\n",
      " F1 = 0.48846960167714887\n",
      " AUC-ROC = 0.6954057976312907\n",
      "max_depth = 13\n",
      " F1 = 0.47939262472885036\n",
      " AUC-ROC = 0.6862755694868538\n",
      "max_depth = 15\n",
      " F1 = 0.46919431279620855\n",
      " AUC-ROC = 0.6739551658748186\n",
      "max_depth = 17\n",
      " F1 = 0.4827586206896552\n",
      " AUC-ROC = 0.6807201817144292\n",
      "max_depth = 19\n",
      " F1 = 0.4710327455919396\n",
      " AUC-ROC = 0.6720079984867727\n"
     ]
    }
   ],
   "source": [
    "for depth in range(1, 20, 2):\n",
    "    model = DecisionTreeClassifier(random_state=12345, max_depth=depth, class_weight='balanced')\n",
    "    \n",
    "    model.fit(features_train, target_train)\n",
    "    predicted_valid = model.predict(features_valid)\n",
    "    probabilities_valid = model.predict_proba(features_valid)[:,1]\n",
    "    \n",
    "    print('max_depth =', depth)\n",
    "    print(' F1 =', f1_score(target_valid, predicted_valid))\n",
    "    print(' AUC-ROC =', roc_auc_score(target_valid, predicted_valid))"
   ]
  },
  {
   "cell_type": "markdown",
   "metadata": {},
   "source": [
    "#### Random Forest Classifier"
   ]
  },
  {
   "cell_type": "code",
   "execution_count": 24,
   "metadata": {},
   "outputs": [
    {
     "name": "stdout",
     "output_type": "stream",
     "text": [
      "n_estimators = 10\n",
      " F1 = 0.5254515599343186\n",
      " AUC-ROC = 0.6865799634091483\n",
      "n_estimators = 15\n",
      " F1 = 0.560126582278481\n",
      " AUC-ROC = 0.7064545817246022\n",
      "n_estimators = 20\n",
      " F1 = 0.5451559934318554\n",
      " AUC-ROC = 0.6961171097995769\n",
      "n_estimators = 25\n",
      " F1 = 0.5544871794871795\n",
      " AUC-ROC = 0.7025825002900882\n",
      "n_estimators = 30\n",
      " F1 = 0.5575364667747165\n",
      " AUC-ROC = 0.7031682400309004\n",
      "n_estimators = 35\n",
      " F1 = 0.5654281098546041\n",
      " AUC-ROC = 0.7073153091863383\n",
      "n_estimators = 40\n",
      " F1 = 0.551948051948052\n",
      " AUC-ROC = 0.7002999432539789\n",
      "n_estimators = 45\n",
      " F1 = 0.5576923076923078\n",
      " AUC-ROC = 0.7041720246884928\n",
      "n_estimators = 50\n",
      " F1 = 0.542763157894737\n",
      " AUC-ROC = 0.6948383374210603\n",
      "n_estimators = 55\n",
      " F1 = 0.5478119935170178\n",
      " AUC-ROC = 0.6983996668356861\n",
      "n_estimators = 60\n",
      " F1 = 0.5326797385620915\n",
      " AUC-ROC = 0.6904162805446982\n",
      "n_estimators = 65\n",
      " F1 = 0.5425361155698234\n",
      " AUC-ROC = 0.6965351547163573\n",
      "n_estimators = 70\n",
      " F1 = 0.5365853658536586\n",
      " AUC-ROC = 0.6926630732818433\n",
      "n_estimators = 75\n",
      " F1 = 0.5410628019323671\n",
      " AUC-ROC = 0.6955671343577289\n",
      "n_estimators = 80\n",
      " F1 = 0.5413290113452188\n",
      " AUC-ROC = 0.6952206180388766\n",
      "n_estimators = 85\n",
      " F1 = 0.5460420032310177\n",
      " AUC-ROC = 0.6977781627959098\n",
      "n_estimators = 90\n",
      " F1 = 0.5436893203883495\n",
      " AUC-ROC = 0.6964993904173933\n",
      "n_estimators = 95\n",
      " F1 = 0.5460420032310177\n",
      " AUC-ROC = 0.6977781627959098\n",
      "n_estimators = 100\n",
      " F1 = 0.5469255663430421\n",
      " AUC-ROC = 0.698088914815798\n"
     ]
    }
   ],
   "source": [
    "for estim in range(10, 101, 5):\n",
    "    model = RandomForestClassifier(n_estimators=estim, random_state=12345, class_weight='balanced')\n",
    "    \n",
    "    model.fit(features_train, target_train)\n",
    "    predicted_valid = model.predict(features_valid)\n",
    "    probabilities_valid = model.predict_proba(features_valid)[:,1]\n",
    "    \n",
    "    print('n_estimators =', estim)\n",
    "    print(' F1 =', f1_score(target_valid, predicted_valid))\n",
    "    print(' AUC-ROC =', roc_auc_score(target_valid, predicted_valid))"
   ]
  },
  {
   "cell_type": "markdown",
   "metadata": {},
   "source": [
    "#### Logistic Regresssion"
   ]
  },
  {
   "cell_type": "code",
   "execution_count": 25,
   "metadata": {},
   "outputs": [
    {
     "name": "stdout",
     "output_type": "stream",
     "text": [
      " F1 = 0.4750889679715302\n",
      " AUC-ROC = 0.6966217837960703\n"
     ]
    }
   ],
   "source": [
    "model =  LogisticRegression(random_state=12345, solver='liblinear', class_weight='balanced')\n",
    "model.fit(features_train, target_train)\n",
    "\n",
    "predicted_valid = model.predict(features_valid)\n",
    "probabilities_valid = model.predict_proba(features_valid)[:,1]\n",
    "print(' F1 =', f1_score(target_valid, predicted_valid))\n",
    "print(' AUC-ROC =', roc_auc_score(target_valid, predicted_valid))"
   ]
  },
  {
   "cell_type": "markdown",
   "metadata": {},
   "source": [
    "For all models, weight adjustment helped some of the algorithms but not enough to improve F1 score/AUC-ROC score substantially."
   ]
  },
  {
   "cell_type": "markdown",
   "metadata": {},
   "source": [
    "### Upsampling"
   ]
  },
  {
   "cell_type": "code",
   "execution_count": 26,
   "metadata": {},
   "outputs": [],
   "source": [
    "def upsample(features, target, repeat):\n",
    "    features_zeros = features[target ==0]\n",
    "    features_ones = features[target ==1]\n",
    "    target_zeros = target[target ==0]\n",
    "    target_ones = target[target ==1]\n",
    "    \n",
    "    features_upsampled = pd.concat([features_zeros] + [features_ones] * repeat)\n",
    "    target_upsampled = pd.concat([target_zeros] + [target_ones] * repeat)\n",
    "    \n",
    "    features_upsampled, target_upsampled = shuffle(features_upsampled, target_upsampled, random_state=12345)\n",
    "    \n",
    "    return features_upsampled, target_upsampled\n",
    "\n",
    "features_upsampled, target_upsampled = upsample(features_train, target_train, 3)"
   ]
  },
  {
   "cell_type": "markdown",
   "metadata": {},
   "source": [
    "Since balancing was not enough to improve F1 score, I used upsampling and will retry previous models with the upsampled data."
   ]
  },
  {
   "cell_type": "markdown",
   "metadata": {},
   "source": [
    "#### Decision Tree"
   ]
  },
  {
   "cell_type": "code",
   "execution_count": 27,
   "metadata": {},
   "outputs": [
    {
     "name": "stdout",
     "output_type": "stream",
     "text": [
      "max_depth = 1\n",
      " F1 = 0.4750733137829912\n",
      " AUC-ROC = 0.6898591522430575\n",
      "max_depth = 3\n",
      " F1 = 0.5258741258741259\n",
      " AUC-ROC = 0.6981469324563397\n",
      "max_depth = 5\n",
      " F1 = 0.5509964830011723\n",
      " AUC-ROC = 0.7299708004368013\n",
      "max_depth = 7\n",
      " F1 = 0.5523193096008631\n",
      " AUC-ROC = 0.7403551633315797\n",
      "max_depth = 9\n",
      " F1 = 0.5229357798165137\n",
      " AUC-ROC = 0.7129398412700935\n",
      "max_depth = 11\n",
      " F1 = 0.5067567567567568\n",
      " AUC-ROC = 0.7031992357566693\n",
      "max_depth = 13\n",
      " F1 = 0.4750869061413673\n",
      " AUC-ROC = 0.6791775482857774\n",
      "max_depth = 15\n",
      " F1 = 0.4753694581280788\n",
      " AUC-ROC = 0.675951608519215\n",
      "max_depth = 17\n",
      " F1 = 0.46830530401034925\n",
      " AUC-ROC = 0.6689966445139949\n",
      "max_depth = 19\n",
      " F1 = 0.47058823529411764\n",
      " AUC-ROC = 0.6698931362746952\n"
     ]
    }
   ],
   "source": [
    "for depth in range(1, 20, 2):\n",
    "    model = DecisionTreeClassifier(random_state=12345, max_depth=depth)\n",
    "    \n",
    "    model.fit(features_upsampled, target_upsampled)\n",
    "    predicted_valid = model.predict(features_valid)\n",
    "    probabilities_valid = model.predict_proba(features_valid)[:,1]\n",
    "    \n",
    "    print('max_depth =', depth)\n",
    "    print(' F1 =', f1_score(target_valid, predicted_valid))\n",
    "    print(' AUC-ROC =', roc_auc_score(target_valid, predicted_valid))"
   ]
  },
  {
   "cell_type": "markdown",
   "metadata": {},
   "source": [
    "#### Random Forest Classifier"
   ]
  },
  {
   "cell_type": "code",
   "execution_count": 28,
   "metadata": {},
   "outputs": [
    {
     "name": "stdout",
     "output_type": "stream",
     "text": [
      "n_estimators = 10\n",
      " F1 = 0.562942008486563\n",
      " AUC-ROC = 0.7181177169978971\n",
      "n_estimators = 15\n",
      " F1 = 0.5823129251700679\n",
      " AUC-ROC = 0.7332595264171007\n",
      "n_estimators = 20\n",
      " F1 = 0.5766526019690577\n",
      " AUC-ROC = 0.726411855308773\n",
      "n_estimators = 25\n",
      " F1 = 0.577716643741403\n",
      " AUC-ROC = 0.7293874449825869\n",
      "n_estimators = 30\n",
      " F1 = 0.5742574257425742\n",
      " AUC-ROC = 0.7244758145915162\n",
      "n_estimators = 35\n",
      " F1 = 0.5920873124147341\n",
      " AUC-ROC = 0.7386496036520913\n",
      "n_estimators = 40\n",
      " F1 = 0.5802816901408451\n",
      " AUC-ROC = 0.728312131727066\n",
      "n_estimators = 45\n",
      " F1 = 0.5980528511821975\n",
      " AUC-ROC = 0.7398210831337156\n",
      "n_estimators = 50\n",
      " F1 = 0.5909090909090909\n",
      " AUC-ROC = 0.7333556926432043\n",
      "n_estimators = 55\n",
      " F1 = 0.5850914205344585\n",
      " AUC-ROC = 0.7311804285039873\n",
      "n_estimators = 60\n",
      " F1 = 0.5811965811965811\n",
      " AUC-ROC = 0.7276190990893615\n",
      "n_estimators = 65\n",
      " F1 = 0.5862552594670406\n",
      " AUC-ROC = 0.7321484488626158\n",
      "n_estimators = 70\n",
      " F1 = 0.5860597439544808\n",
      " AUC-ROC = 0.7304873958662828\n",
      "n_estimators = 75\n",
      " F1 = 0.5859154929577465\n",
      " AUC-ROC = 0.7314911805238754\n",
      "n_estimators = 80\n",
      " F1 = 0.5836909871244635\n",
      " AUC-ROC = 0.7285513551490259\n",
      "n_estimators = 85\n",
      " F1 = 0.5884016973125884\n",
      " AUC-ROC = 0.7324234365835398\n",
      "n_estimators = 90\n",
      " F1 = 0.5872340425531914\n",
      " AUC-ROC = 0.7314554162249113\n",
      "n_estimators = 95\n",
      " F1 = 0.5903954802259886\n",
      " AUC-ROC = 0.7337022089620564\n",
      "n_estimators = 100\n",
      " F1 = 0.5852272727272727\n",
      " AUC-ROC = 0.7301766438463947\n"
     ]
    }
   ],
   "source": [
    "for estim in range(10, 101, 5):\n",
    "    model = RandomForestClassifier(n_estimators=estim, random_state=12345)\n",
    "    \n",
    "    model.fit(features_upsampled, target_upsampled)\n",
    "    predicted_valid = model.predict(features_valid)\n",
    "    probabilities_valid = model.predict_proba(features_valid)[:,1]\n",
    "    \n",
    "    print('n_estimators =', estim)\n",
    "    print(' F1 =', f1_score(target_valid, predicted_valid))\n",
    "    print(' AUC-ROC =', roc_auc_score(target_valid, predicted_valid))"
   ]
  },
  {
   "cell_type": "markdown",
   "metadata": {},
   "source": [
    "#### Logistic Regression"
   ]
  },
  {
   "cell_type": "code",
   "execution_count": 29,
   "metadata": {},
   "outputs": [
    {
     "name": "stdout",
     "output_type": "stream",
     "text": [
      " F1 = 0.4794086589229145\n",
      " AUC-ROC = 0.688043915380079\n"
     ]
    }
   ],
   "source": [
    "model =  LogisticRegression(random_state=12345, solver='liblinear')\n",
    "model.fit(features_upsampled, target_upsampled)\n",
    "\n",
    "predicted_valid = model.predict(features_valid)\n",
    "probabilities_valid = model.predict_proba(features_valid)[:,1]\n",
    "print(' F1 =', f1_score(target_valid, predicted_valid))\n",
    "print(' AUC-ROC =', roc_auc_score(target_valid, predicted_valid))"
   ]
  },
  {
   "cell_type": "markdown",
   "metadata": {},
   "source": [
    "After upsampling, the best model is RandomForest with n_estimators = 95 with an F1 score of .59 and AUC-ROC score of .73"
   ]
  },
  {
   "cell_type": "markdown",
   "metadata": {},
   "source": [
    "### Downsampling"
   ]
  },
  {
   "cell_type": "code",
   "execution_count": 30,
   "metadata": {},
   "outputs": [],
   "source": [
    "def downsample(features, target, fraction):\n",
    "    features_zeros = features[target ==0]\n",
    "    features_ones = features[target ==1]\n",
    "    target_zeros = target[target ==0]\n",
    "    target_ones = target[target ==1]\n",
    "    \n",
    "    features_downsampled = pd.concat([features_zeros.sample(frac=fraction, random_state=12345)] + [features_ones])\n",
    "    target_downsampled = pd.concat([target_zeros.sample(frac=fraction, random_state=12345)] + [target_ones])\n",
    "    \n",
    "    features_downsampled, target_downsampled = shuffle(features_downsampled, target_downsampled, random_state=12345)\n",
    "    \n",
    "    return features_downsampled, target_downsampled\n",
    "\n",
    "features_downsampled, target_downsampled = downsample(features_train, target_train, .3)\n"
   ]
  },
  {
   "cell_type": "markdown",
   "metadata": {},
   "source": [
    "removing some data (downsampling) to see how this affects scores"
   ]
  },
  {
   "cell_type": "markdown",
   "metadata": {},
   "source": [
    "#### Decision Tree"
   ]
  },
  {
   "cell_type": "code",
   "execution_count": 31,
   "metadata": {},
   "outputs": [
    {
     "name": "stdout",
     "output_type": "stream",
     "text": [
      "max_depth = 1\n",
      " F1 = 0.4750733137829912\n",
      " AUC-ROC = 0.6898591522430575\n",
      "max_depth = 3\n",
      " F1 = 0.49761677788369874\n",
      " AUC-ROC = 0.7103910388972516\n",
      "max_depth = 5\n",
      " F1 = 0.5568181818181818\n",
      " AUC-ROC = 0.7606700799053914\n",
      "max_depth = 7\n",
      " F1 = 0.5498938428874736\n",
      " AUC-ROC = 0.7404624562284718\n",
      "max_depth = 9\n",
      " F1 = 0.530901722391084\n",
      " AUC-ROC = 0.7312471885287203\n",
      "max_depth = 11\n",
      " F1 = 0.4999999999999999\n",
      " AUC-ROC = 0.7112517663589877\n",
      "max_depth = 13\n",
      " F1 = 0.48775894538606407\n",
      " AUC-ROC = 0.7031722138418963\n",
      "max_depth = 15\n",
      " F1 = 0.4885635864592864\n",
      " AUC-ROC = 0.7062550964126023\n",
      "max_depth = 17\n",
      " F1 = 0.481036077705828\n",
      " AUC-ROC = 0.6988574498624266\n",
      "max_depth = 19\n",
      " F1 = 0.48319709355131696\n",
      " AUC-ROC = 0.7021795558550926\n"
     ]
    }
   ],
   "source": [
    "for depth in range(1, 20, 2):\n",
    "    model = DecisionTreeClassifier(random_state=12345, max_depth=depth)\n",
    "    \n",
    "    model.fit(features_downsampled, target_downsampled)\n",
    "    predicted_valid = model.predict(features_valid)\n",
    "    probabilities_valid = model.predict_proba(features_valid)[:,1]\n",
    "    \n",
    "    print('max_depth =', depth)\n",
    "    print(' F1 =', f1_score(target_valid, predicted_valid))\n",
    "    print(' AUC-ROC =', roc_auc_score(target_valid, predicted_valid))"
   ]
  },
  {
   "cell_type": "markdown",
   "metadata": {},
   "source": [
    "#### Random Forest Classifier"
   ]
  },
  {
   "cell_type": "code",
   "execution_count": 32,
   "metadata": {},
   "outputs": [
    {
     "name": "stdout",
     "output_type": "stream",
     "text": [
      "n_estimators = 10\n",
      " F1 = 0.5393013100436682\n",
      " AUC-ROC = 0.7294677159647063\n",
      "n_estimators = 15\n",
      " F1 = 0.5508735868448099\n",
      " AUC-ROC = 0.7451348631975826\n",
      "n_estimators = 20\n",
      " F1 = 0.5554359526372443\n",
      " AUC-ROC = 0.7429127080886129\n",
      "n_estimators = 25\n",
      " F1 = 0.5480572597137015\n",
      " AUC-ROC = 0.7435811030981421\n",
      "n_estimators = 30\n",
      " F1 = 0.5620360551431601\n",
      " AUC-ROC = 0.7496888505990122\n",
      "n_estimators = 35\n",
      " F1 = 0.5571428571428572\n",
      " AUC-ROC = 0.7509072210503895\n",
      "n_estimators = 40\n",
      " F1 = 0.5612565445026177\n",
      " AUC-ROC = 0.750728399555569\n",
      "n_estimators = 45\n",
      " F1 = 0.5615462868769074\n",
      " AUC-ROC = 0.7547435381859395\n",
      "n_estimators = 50\n",
      " F1 = 0.5600835945663531\n",
      " AUC-ROC = 0.7501068955157928\n",
      "n_estimators = 55\n",
      " F1 = 0.5522842639593909\n",
      " AUC-ROC = 0.747763936552544\n",
      "n_estimators = 60\n",
      " F1 = 0.5537190082644627\n",
      " AUC-ROC = 0.7466886232970233\n",
      "n_estimators = 65\n",
      " F1 = 0.5494949494949496\n",
      " AUC-ROC = 0.7462101764531035\n",
      "n_estimators = 70\n",
      " F1 = 0.5491803278688525\n",
      " AUC-ROC = 0.7442026071379183\n",
      "n_estimators = 75\n",
      " F1 = 0.5491388044579534\n",
      " AUC-ROC = 0.7455529081143631\n",
      "n_estimators = 80\n",
      " F1 = 0.5486542443064182\n",
      " AUC-ROC = 0.7425415541415853\n",
      "n_estimators = 85\n",
      " F1 = 0.5506072874493927\n",
      " AUC-ROC = 0.7468316804928797\n",
      "n_estimators = 90\n",
      " F1 = 0.5482546201232033\n",
      " AUC-ROC = 0.7432345867792898\n",
      "n_estimators = 95\n",
      " F1 = 0.5482233502538072\n",
      " AUC-ROC = 0.7445848877557346\n",
      "n_estimators = 100\n",
      " F1 = 0.5510204081632653\n",
      " AUC-ROC = 0.7461386478551753\n"
     ]
    }
   ],
   "source": [
    "for estim in range(10, 101, 5):\n",
    "    model = RandomForestClassifier(n_estimators=estim, random_state=12345)\n",
    "    \n",
    "    model.fit(features_downsampled, target_downsampled)\n",
    "    predicted_valid = model.predict(features_valid)\n",
    "    probabilities_valid = model.predict_proba(features_valid)[:,1]\n",
    "    \n",
    "    print('n_estimators =', estim)\n",
    "    print(' F1 =', f1_score(target_valid, predicted_valid))\n",
    "    print(' AUC-ROC =', roc_auc_score(target_valid, predicted_valid))"
   ]
  },
  {
   "cell_type": "markdown",
   "metadata": {},
   "source": [
    "#### Logistic Regression"
   ]
  },
  {
   "cell_type": "code",
   "execution_count": 33,
   "metadata": {},
   "outputs": [
    {
     "name": "stdout",
     "output_type": "stream",
     "text": [
      " F1 = 0.48590864917395526\n",
      " AUC-ROC = 0.6991213109125619\n"
     ]
    }
   ],
   "source": [
    "model =  LogisticRegression(random_state=12345, solver='liblinear')\n",
    "model.fit(features_downsampled, target_downsampled)\n",
    "\n",
    "predicted_valid = model.predict(features_valid)\n",
    "probabilities_valid = model.predict_proba(features_valid)[:,1]\n",
    "print(' F1 =', f1_score(target_valid, predicted_valid))\n",
    "print(' AUC-ROC =', roc_auc_score(target_valid, predicted_valid))"
   ]
  },
  {
   "cell_type": "markdown",
   "metadata": {},
   "source": [
    "Downsampling did not produce scores as great as upsampling"
   ]
  },
  {
   "cell_type": "markdown",
   "metadata": {},
   "source": [
    "### Findings\n",
    "1) the best model is RandomForest Classifier + upsampling where n_estimators = 95\n",
    "2) F1 score and AUC-ROC score grow simultaneously but the maximums for each don't always match"
   ]
  },
  {
   "cell_type": "markdown",
   "metadata": {},
   "source": [
    "## Model testing"
   ]
  },
  {
   "cell_type": "markdown",
   "metadata": {},
   "source": [
    "### Training using complete data"
   ]
  },
  {
   "cell_type": "code",
   "execution_count": 34,
   "metadata": {},
   "outputs": [
    {
     "name": "stdout",
     "output_type": "stream",
     "text": [
      " F1 = 0.5938748335552596\n",
      "AUC-ROC = 0.8519610047180838\n"
     ]
    }
   ],
   "source": [
    "features_full_train = pd.concat([features_train, features_valid])\n",
    "target_full_train = pd.concat([target_train, target_valid])\n",
    "\n",
    "features_upsampled, target_upsampled = upsample(features_full_train, target_full_train, 3)\n",
    "\n",
    "model = RandomForestClassifier(random_state=12345, n_estimators=95)\n",
    "model.fit(features_upsampled, target_upsampled)\n",
    "\n",
    "predicted_test = model.predict(features_test)\n",
    "probabilities_test = model.predict_proba(features_test)[:,1]\n",
    "\n",
    "print(' F1 =', f1_score(target_test, predicted_test))\n",
    "print('AUC-ROC =', roc_auc_score(target_test, probabilities_test))"
   ]
  },
  {
   "cell_type": "markdown",
   "metadata": {},
   "source": [
    "## Conclusion"
   ]
  },
  {
   "cell_type": "markdown",
   "metadata": {},
   "source": [
    "After training both imbalanced and balanced models as well as upsampling and downsampling, RandomForest Classifier produces the best model with n_estimators = 95. This is where the F1 scores reach .59 and AUC-ROC = .85."
   ]
  }
 ],
 "metadata": {
  "ExecuteTimeLog": [
   {
    "duration": 479,
    "start_time": "2024-06-04T19:10:11.997Z"
   },
   {
    "duration": 39,
    "start_time": "2024-06-04T19:11:17.274Z"
   },
   {
    "duration": 20,
    "start_time": "2024-06-04T19:11:22.223Z"
   },
   {
    "duration": 24,
    "start_time": "2024-06-04T19:11:29.176Z"
   },
   {
    "duration": 17,
    "start_time": "2024-06-04T19:13:07.897Z"
   },
   {
    "duration": 25,
    "start_time": "2024-06-04T19:13:13.119Z"
   },
   {
    "duration": 20,
    "start_time": "2024-06-04T19:13:22.099Z"
   },
   {
    "duration": 14,
    "start_time": "2024-06-04T19:17:39.139Z"
   },
   {
    "duration": 6,
    "start_time": "2024-06-04T19:18:41.208Z"
   },
   {
    "duration": 6,
    "start_time": "2024-06-04T19:18:45.461Z"
   },
   {
    "duration": 31,
    "start_time": "2024-06-04T19:24:17.661Z"
   },
   {
    "duration": 8,
    "start_time": "2024-06-04T19:28:36.237Z"
   },
   {
    "duration": 6,
    "start_time": "2024-06-04T19:29:17.440Z"
   },
   {
    "duration": 6,
    "start_time": "2024-06-04T19:29:31.565Z"
   },
   {
    "duration": 7,
    "start_time": "2024-06-04T19:29:36.436Z"
   },
   {
    "duration": 17,
    "start_time": "2024-06-04T19:29:47.171Z"
   },
   {
    "duration": 5,
    "start_time": "2024-06-04T19:29:55.041Z"
   },
   {
    "duration": 16,
    "start_time": "2024-06-04T19:29:58.580Z"
   },
   {
    "duration": 15,
    "start_time": "2024-06-04T19:30:25.562Z"
   },
   {
    "duration": 15,
    "start_time": "2024-06-04T19:34:39.657Z"
   },
   {
    "duration": 17,
    "start_time": "2024-06-04T19:34:46.460Z"
   },
   {
    "duration": 6,
    "start_time": "2024-06-04T19:35:19.485Z"
   },
   {
    "duration": 8,
    "start_time": "2024-06-04T19:39:50.594Z"
   },
   {
    "duration": 347,
    "start_time": "2024-06-04T19:41:55.688Z"
   },
   {
    "duration": 8,
    "start_time": "2024-06-04T19:42:00.932Z"
   },
   {
    "duration": 311,
    "start_time": "2024-06-04T19:42:59.323Z"
   },
   {
    "duration": 52,
    "start_time": "2024-06-04T19:43:08.472Z"
   },
   {
    "duration": 108,
    "start_time": "2024-06-04T19:43:31.717Z"
   },
   {
    "duration": 72,
    "start_time": "2024-06-04T19:43:50.362Z"
   },
   {
    "duration": 51,
    "start_time": "2024-06-04T19:43:56.059Z"
   },
   {
    "duration": 406,
    "start_time": "2024-06-04T19:44:04.192Z"
   },
   {
    "duration": 37,
    "start_time": "2024-06-04T19:44:04.602Z"
   },
   {
    "duration": 19,
    "start_time": "2024-06-04T19:44:04.643Z"
   },
   {
    "duration": 30,
    "start_time": "2024-06-04T19:44:04.666Z"
   },
   {
    "duration": 36,
    "start_time": "2024-06-04T19:44:04.699Z"
   },
   {
    "duration": 7,
    "start_time": "2024-06-04T19:44:04.739Z"
   },
   {
    "duration": 18,
    "start_time": "2024-06-04T19:44:04.750Z"
   },
   {
    "duration": 15,
    "start_time": "2024-06-04T19:44:04.772Z"
   },
   {
    "duration": 7,
    "start_time": "2024-06-04T19:44:04.830Z"
   },
   {
    "duration": 10,
    "start_time": "2024-06-04T19:44:04.843Z"
   },
   {
    "duration": 11,
    "start_time": "2024-06-04T19:44:04.856Z"
   },
   {
    "duration": 20,
    "start_time": "2024-06-04T19:44:20.585Z"
   },
   {
    "duration": 10,
    "start_time": "2024-06-04T19:44:44.398Z"
   },
   {
    "duration": 6,
    "start_time": "2024-06-04T19:45:52.813Z"
   },
   {
    "duration": 16,
    "start_time": "2024-06-04T19:45:54.794Z"
   },
   {
    "duration": 744,
    "start_time": "2024-06-04T20:05:03.059Z"
   },
   {
    "duration": 1186,
    "start_time": "2024-06-07T18:08:01.628Z"
   },
   {
    "duration": 30,
    "start_time": "2024-06-07T18:08:02.818Z"
   },
   {
    "duration": 20,
    "start_time": "2024-06-07T18:08:02.852Z"
   },
   {
    "duration": 26,
    "start_time": "2024-06-07T18:08:02.901Z"
   },
   {
    "duration": 6,
    "start_time": "2024-06-07T18:08:02.930Z"
   },
   {
    "duration": 7,
    "start_time": "2024-06-07T18:08:02.939Z"
   },
   {
    "duration": 54,
    "start_time": "2024-06-07T18:08:02.951Z"
   },
   {
    "duration": 13,
    "start_time": "2024-06-07T18:08:03.008Z"
   },
   {
    "duration": 9,
    "start_time": "2024-06-07T18:08:03.026Z"
   },
   {
    "duration": 6,
    "start_time": "2024-06-07T18:08:03.040Z"
   },
   {
    "duration": 56,
    "start_time": "2024-06-07T18:08:03.050Z"
   },
   {
    "duration": 13,
    "start_time": "2024-06-07T18:16:11.167Z"
   },
   {
    "duration": 18,
    "start_time": "2024-06-07T18:16:21.231Z"
   },
   {
    "duration": 11,
    "start_time": "2024-06-07T18:23:13.776Z"
   },
   {
    "duration": 405,
    "start_time": "2024-06-07T18:26:44.971Z"
   },
   {
    "duration": 9,
    "start_time": "2024-06-07T18:26:51.818Z"
   },
   {
    "duration": 6,
    "start_time": "2024-06-07T18:27:39.276Z"
   },
   {
    "duration": 5,
    "start_time": "2024-06-07T18:28:00.886Z"
   },
   {
    "duration": 4,
    "start_time": "2024-06-07T18:28:20.894Z"
   },
   {
    "duration": 4,
    "start_time": "2024-06-07T18:29:30.648Z"
   },
   {
    "duration": 1175,
    "start_time": "2024-06-07T18:29:36.503Z"
   },
   {
    "duration": 35,
    "start_time": "2024-06-07T18:29:37.681Z"
   },
   {
    "duration": 19,
    "start_time": "2024-06-07T18:29:37.718Z"
   },
   {
    "duration": 27,
    "start_time": "2024-06-07T18:29:37.742Z"
   },
   {
    "duration": 32,
    "start_time": "2024-06-07T18:29:37.772Z"
   },
   {
    "duration": 7,
    "start_time": "2024-06-07T18:29:37.806Z"
   },
   {
    "duration": 15,
    "start_time": "2024-06-07T18:29:37.817Z"
   },
   {
    "duration": 15,
    "start_time": "2024-06-07T18:29:37.835Z"
   },
   {
    "duration": 52,
    "start_time": "2024-06-07T18:29:37.853Z"
   },
   {
    "duration": 6,
    "start_time": "2024-06-07T18:29:37.911Z"
   },
   {
    "duration": 18,
    "start_time": "2024-06-07T18:29:37.920Z"
   },
   {
    "duration": 14,
    "start_time": "2024-06-07T18:29:37.941Z"
   },
   {
    "duration": 55,
    "start_time": "2024-06-07T18:29:37.958Z"
   },
   {
    "duration": 12,
    "start_time": "2024-06-07T18:29:38.016Z"
   },
   {
    "duration": 9,
    "start_time": "2024-06-07T18:29:38.031Z"
   },
   {
    "duration": 5,
    "start_time": "2024-06-07T18:29:38.043Z"
   },
   {
    "duration": 7,
    "start_time": "2024-06-07T18:32:59.658Z"
   },
   {
    "duration": 4,
    "start_time": "2024-06-07T18:33:04.372Z"
   },
   {
    "duration": 23,
    "start_time": "2024-06-07T18:34:57.331Z"
   },
   {
    "duration": 48,
    "start_time": "2024-06-07T18:35:26.066Z"
   },
   {
    "duration": 52,
    "start_time": "2024-06-07T18:38:34.255Z"
   },
   {
    "duration": 1213,
    "start_time": "2024-06-07T18:38:39.906Z"
   },
   {
    "duration": 25,
    "start_time": "2024-06-07T18:38:41.123Z"
   },
   {
    "duration": 19,
    "start_time": "2024-06-07T18:38:41.151Z"
   },
   {
    "duration": 50,
    "start_time": "2024-06-07T18:38:41.173Z"
   },
   {
    "duration": 5,
    "start_time": "2024-06-07T18:38:41.228Z"
   },
   {
    "duration": 5,
    "start_time": "2024-06-07T18:38:41.238Z"
   },
   {
    "duration": 17,
    "start_time": "2024-06-07T18:38:41.246Z"
   },
   {
    "duration": 13,
    "start_time": "2024-06-07T18:38:41.303Z"
   },
   {
    "duration": 8,
    "start_time": "2024-06-07T18:38:41.319Z"
   },
   {
    "duration": 6,
    "start_time": "2024-06-07T18:38:41.330Z"
   },
   {
    "duration": 15,
    "start_time": "2024-06-07T18:38:41.338Z"
   },
   {
    "duration": 50,
    "start_time": "2024-06-07T18:38:41.356Z"
   },
   {
    "duration": 22,
    "start_time": "2024-06-07T18:38:41.409Z"
   },
   {
    "duration": 65,
    "start_time": "2024-06-07T18:38:41.437Z"
   },
   {
    "duration": 9,
    "start_time": "2024-06-07T18:38:41.505Z"
   },
   {
    "duration": 5,
    "start_time": "2024-06-07T18:38:41.517Z"
   },
   {
    "duration": 4,
    "start_time": "2024-06-07T18:38:41.525Z"
   },
   {
    "duration": 76,
    "start_time": "2024-06-07T18:38:41.532Z"
   },
   {
    "duration": 15,
    "start_time": "2024-06-08T16:28:55.585Z"
   },
   {
    "duration": 1274,
    "start_time": "2024-06-08T16:29:06.102Z"
   },
   {
    "duration": 40,
    "start_time": "2024-06-08T16:29:07.380Z"
   },
   {
    "duration": 17,
    "start_time": "2024-06-08T16:29:07.423Z"
   },
   {
    "duration": 27,
    "start_time": "2024-06-08T16:29:07.445Z"
   },
   {
    "duration": 37,
    "start_time": "2024-06-08T16:29:07.475Z"
   },
   {
    "duration": 7,
    "start_time": "2024-06-08T16:29:07.515Z"
   },
   {
    "duration": 16,
    "start_time": "2024-06-08T16:29:07.526Z"
   },
   {
    "duration": 15,
    "start_time": "2024-06-08T16:29:07.545Z"
   },
   {
    "duration": 53,
    "start_time": "2024-06-08T16:29:07.563Z"
   },
   {
    "duration": 8,
    "start_time": "2024-06-08T16:29:07.622Z"
   },
   {
    "duration": 15,
    "start_time": "2024-06-08T16:29:07.634Z"
   },
   {
    "duration": 14,
    "start_time": "2024-06-08T16:29:07.652Z"
   },
   {
    "duration": 53,
    "start_time": "2024-06-08T16:29:07.668Z"
   },
   {
    "duration": 11,
    "start_time": "2024-06-08T16:29:07.724Z"
   },
   {
    "duration": 10,
    "start_time": "2024-06-08T16:29:07.738Z"
   },
   {
    "duration": 4,
    "start_time": "2024-06-08T16:29:07.751Z"
   },
   {
    "duration": 4,
    "start_time": "2024-06-08T16:29:07.760Z"
   },
   {
    "duration": 39,
    "start_time": "2024-06-08T16:29:07.816Z"
   },
   {
    "duration": 722,
    "start_time": "2024-06-08T16:29:07.858Z"
   },
   {
    "duration": 365,
    "start_time": "2024-06-08T16:29:23.968Z"
   },
   {
    "duration": 10825,
    "start_time": "2024-06-08T16:39:40.038Z"
   },
   {
    "duration": 36,
    "start_time": "2024-06-08T16:44:09.874Z"
   },
   {
    "duration": 372,
    "start_time": "2024-06-08T16:46:32.768Z"
   },
   {
    "duration": 10640,
    "start_time": "2024-06-08T16:47:41.472Z"
   },
   {
    "duration": 108,
    "start_time": "2024-06-08T16:48:29.004Z"
   },
   {
    "duration": 29,
    "start_time": "2024-06-08T16:48:35.960Z"
   },
   {
    "duration": 31,
    "start_time": "2024-06-08T16:48:55.295Z"
   },
   {
    "duration": 5,
    "start_time": "2024-06-08T16:50:31.017Z"
   },
   {
    "duration": 1192,
    "start_time": "2024-06-08T16:50:37.268Z"
   },
   {
    "duration": 26,
    "start_time": "2024-06-08T16:50:38.464Z"
   },
   {
    "duration": 24,
    "start_time": "2024-06-08T16:50:38.494Z"
   },
   {
    "duration": 27,
    "start_time": "2024-06-08T16:50:38.523Z"
   },
   {
    "duration": 7,
    "start_time": "2024-06-08T16:50:38.553Z"
   },
   {
    "duration": 6,
    "start_time": "2024-06-08T16:50:38.563Z"
   },
   {
    "duration": 54,
    "start_time": "2024-06-08T16:50:38.572Z"
   },
   {
    "duration": 13,
    "start_time": "2024-06-08T16:50:38.629Z"
   },
   {
    "duration": 9,
    "start_time": "2024-06-08T16:50:38.645Z"
   },
   {
    "duration": 5,
    "start_time": "2024-06-08T16:50:38.660Z"
   },
   {
    "duration": 17,
    "start_time": "2024-06-08T16:50:38.712Z"
   },
   {
    "duration": 12,
    "start_time": "2024-06-08T16:50:38.732Z"
   },
   {
    "duration": 18,
    "start_time": "2024-06-08T16:50:38.747Z"
   },
   {
    "duration": 47,
    "start_time": "2024-06-08T16:50:38.768Z"
   },
   {
    "duration": 10,
    "start_time": "2024-06-08T16:50:38.818Z"
   },
   {
    "duration": 6,
    "start_time": "2024-06-08T16:50:38.831Z"
   },
   {
    "duration": 4,
    "start_time": "2024-06-08T16:50:38.840Z"
   },
   {
    "duration": 78,
    "start_time": "2024-06-08T16:50:38.847Z"
   },
   {
    "duration": 384,
    "start_time": "2024-06-08T16:50:38.928Z"
   },
   {
    "duration": 10890,
    "start_time": "2024-06-08T16:50:39.315Z"
   },
   {
    "duration": 31,
    "start_time": "2024-06-08T16:50:50.208Z"
   },
   {
    "duration": 517,
    "start_time": "2024-06-08T16:50:50.242Z"
   },
   {
    "duration": 10675,
    "start_time": "2024-06-08T16:50:50.762Z"
   },
   {
    "duration": 73,
    "start_time": "2024-06-08T16:51:01.440Z"
   },
   {
    "duration": 470,
    "start_time": "2024-06-08T16:56:29.272Z"
   },
   {
    "duration": 53,
    "start_time": "2024-06-08T16:57:51.842Z"
   },
   {
    "duration": 13,
    "start_time": "2024-06-08T16:58:10.423Z"
   },
   {
    "duration": 424,
    "start_time": "2024-06-08T17:01:10.462Z"
   },
   {
    "duration": 13820,
    "start_time": "2024-06-08T17:02:37.550Z"
   },
   {
    "duration": 32,
    "start_time": "2024-06-08T17:03:37.010Z"
   },
   {
    "duration": 13,
    "start_time": "2024-06-08T17:08:53.481Z"
   },
   {
    "duration": 209,
    "start_time": "2024-06-08T17:10:08.093Z"
   },
   {
    "duration": 6115,
    "start_time": "2024-06-08T17:10:39.097Z"
   },
   {
    "duration": 49,
    "start_time": "2024-06-08T17:12:02.187Z"
   },
   {
    "duration": 23,
    "start_time": "2024-06-08T17:12:16.726Z"
   },
   {
    "duration": 8,
    "start_time": "2024-06-08T17:19:38.813Z"
   },
   {
    "duration": 1554,
    "start_time": "2024-06-08T17:19:43.996Z"
   },
   {
    "duration": 8,
    "start_time": "2024-06-08T17:22:12.397Z"
   },
   {
    "duration": 1714,
    "start_time": "2024-06-08T17:22:26.301Z"
   },
   {
    "duration": 788,
    "start_time": "2024-06-08T17:23:55.934Z"
   },
   {
    "duration": 1622,
    "start_time": "2024-06-08T17:24:06.910Z"
   },
   {
    "duration": 776,
    "start_time": "2024-06-08T17:26:07.809Z"
   },
   {
    "duration": 1748,
    "start_time": "2024-06-08T17:26:12.528Z"
   },
   {
    "duration": 1640,
    "start_time": "2024-06-08T17:26:20.000Z"
   },
   {
    "duration": 408,
    "start_time": "2024-06-13T18:23:47.223Z"
   },
   {
    "duration": 1300,
    "start_time": "2024-06-13T18:24:07.348Z"
   },
   {
    "duration": 41,
    "start_time": "2024-06-13T18:24:08.652Z"
   },
   {
    "duration": 20,
    "start_time": "2024-06-13T18:24:08.696Z"
   },
   {
    "duration": 27,
    "start_time": "2024-06-13T18:24:08.726Z"
   },
   {
    "duration": 6,
    "start_time": "2024-06-13T18:24:08.757Z"
   },
   {
    "duration": 7,
    "start_time": "2024-06-13T18:24:08.766Z"
   },
   {
    "duration": 58,
    "start_time": "2024-06-13T18:24:08.776Z"
   },
   {
    "duration": 15,
    "start_time": "2024-06-13T18:24:08.838Z"
   },
   {
    "duration": 9,
    "start_time": "2024-06-13T18:24:08.856Z"
   },
   {
    "duration": 7,
    "start_time": "2024-06-13T18:24:08.871Z"
   },
   {
    "duration": 17,
    "start_time": "2024-06-13T18:24:08.924Z"
   },
   {
    "duration": 15,
    "start_time": "2024-06-13T18:24:08.945Z"
   },
   {
    "duration": 60,
    "start_time": "2024-06-13T18:24:08.963Z"
   },
   {
    "duration": 4925,
    "start_time": "2024-06-13T18:24:09.026Z"
   },
   {
    "duration": 0,
    "start_time": "2024-06-13T18:24:13.955Z"
   },
   {
    "duration": 0,
    "start_time": "2024-06-13T18:24:13.957Z"
   },
   {
    "duration": 0,
    "start_time": "2024-06-13T18:24:13.960Z"
   },
   {
    "duration": 0,
    "start_time": "2024-06-13T18:24:13.961Z"
   },
   {
    "duration": 0,
    "start_time": "2024-06-13T18:24:13.963Z"
   },
   {
    "duration": 0,
    "start_time": "2024-06-13T18:24:13.964Z"
   },
   {
    "duration": 0,
    "start_time": "2024-06-13T18:24:13.967Z"
   },
   {
    "duration": 0,
    "start_time": "2024-06-13T18:24:13.970Z"
   },
   {
    "duration": 0,
    "start_time": "2024-06-13T18:24:13.973Z"
   },
   {
    "duration": 0,
    "start_time": "2024-06-13T18:24:13.975Z"
   },
   {
    "duration": 0,
    "start_time": "2024-06-13T18:24:13.977Z"
   },
   {
    "duration": 0,
    "start_time": "2024-06-13T18:24:13.979Z"
   },
   {
    "duration": 1,
    "start_time": "2024-06-13T18:24:13.980Z"
   },
   {
    "duration": 0,
    "start_time": "2024-06-13T18:24:14.025Z"
   },
   {
    "duration": 0,
    "start_time": "2024-06-13T18:24:14.028Z"
   },
   {
    "duration": 0,
    "start_time": "2024-06-13T18:24:14.031Z"
   },
   {
    "duration": 0,
    "start_time": "2024-06-13T18:24:14.034Z"
   },
   {
    "duration": 0,
    "start_time": "2024-06-13T18:24:14.037Z"
   },
   {
    "duration": 0,
    "start_time": "2024-06-13T18:24:14.039Z"
   },
   {
    "duration": 0,
    "start_time": "2024-06-13T18:24:14.180Z"
   },
   {
    "duration": 1423,
    "start_time": "2024-06-13T18:25:24.362Z"
   },
   {
    "duration": 25,
    "start_time": "2024-06-13T18:25:25.789Z"
   },
   {
    "duration": 24,
    "start_time": "2024-06-13T18:25:25.824Z"
   },
   {
    "duration": 28,
    "start_time": "2024-06-13T18:25:25.851Z"
   },
   {
    "duration": 7,
    "start_time": "2024-06-13T18:25:25.884Z"
   },
   {
    "duration": 7,
    "start_time": "2024-06-13T18:25:25.922Z"
   },
   {
    "duration": 17,
    "start_time": "2024-06-13T18:25:25.935Z"
   },
   {
    "duration": 13,
    "start_time": "2024-06-13T18:25:25.956Z"
   },
   {
    "duration": 50,
    "start_time": "2024-06-13T18:25:25.972Z"
   },
   {
    "duration": 6,
    "start_time": "2024-06-13T18:25:26.025Z"
   },
   {
    "duration": 16,
    "start_time": "2024-06-13T18:25:26.034Z"
   },
   {
    "duration": 12,
    "start_time": "2024-06-13T18:25:26.053Z"
   },
   {
    "duration": 56,
    "start_time": "2024-06-13T18:25:26.068Z"
   },
   {
    "duration": 309,
    "start_time": "2024-06-13T18:25:26.130Z"
   },
   {
    "duration": 11,
    "start_time": "2024-06-13T18:25:26.443Z"
   },
   {
    "duration": 10,
    "start_time": "2024-06-13T18:25:26.457Z"
   },
   {
    "duration": 5,
    "start_time": "2024-06-13T18:25:26.470Z"
   },
   {
    "duration": 45,
    "start_time": "2024-06-13T18:25:26.478Z"
   },
   {
    "duration": 39,
    "start_time": "2024-06-13T18:25:26.525Z"
   },
   {
    "duration": 397,
    "start_time": "2024-06-13T18:25:26.567Z"
   },
   {
    "duration": 10761,
    "start_time": "2024-06-13T18:25:26.968Z"
   },
   {
    "duration": 31,
    "start_time": "2024-06-13T18:25:37.732Z"
   },
   {
    "duration": 517,
    "start_time": "2024-06-13T18:25:37.766Z"
   },
   {
    "duration": 10637,
    "start_time": "2024-06-13T18:25:38.286Z"
   },
   {
    "duration": 32,
    "start_time": "2024-06-13T18:25:48.926Z"
   },
   {
    "duration": 71,
    "start_time": "2024-06-13T18:25:48.961Z"
   },
   {
    "duration": 507,
    "start_time": "2024-06-13T18:25:49.035Z"
   },
   {
    "duration": 13729,
    "start_time": "2024-06-13T18:25:49.545Z"
   },
   {
    "duration": 52,
    "start_time": "2024-06-13T18:26:03.278Z"
   },
   {
    "duration": 90,
    "start_time": "2024-06-13T18:26:03.332Z"
   },
   {
    "duration": 282,
    "start_time": "2024-06-13T18:26:03.425Z"
   },
   {
    "duration": 6037,
    "start_time": "2024-06-13T18:26:03.710Z"
   },
   {
    "duration": 25,
    "start_time": "2024-06-13T18:26:09.750Z"
   },
   {
    "duration": 1730,
    "start_time": "2024-06-13T18:26:09.834Z"
   }
  ],
  "kernelspec": {
   "display_name": "Python 3 (ipykernel)",
   "language": "python",
   "name": "python3"
  },
  "language_info": {
   "codemirror_mode": {
    "name": "ipython",
    "version": 3
   },
   "file_extension": ".py",
   "mimetype": "text/x-python",
   "name": "python",
   "nbconvert_exporter": "python",
   "pygments_lexer": "ipython3",
   "version": "3.9.19"
  },
  "toc": {
   "base_numbering": 1,
   "nav_menu": {},
   "number_sections": true,
   "sideBar": true,
   "skip_h1_title": true,
   "title_cell": "Table of Contents",
   "title_sidebar": "Contents",
   "toc_cell": false,
   "toc_position": {
    "height": "calc(100% - 180px)",
    "left": "10px",
    "top": "150px",
    "width": "165px"
   },
   "toc_section_display": true,
   "toc_window_display": true
  }
 },
 "nbformat": 4,
 "nbformat_minor": 2
}
